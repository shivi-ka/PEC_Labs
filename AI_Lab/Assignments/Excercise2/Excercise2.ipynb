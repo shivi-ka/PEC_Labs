{
 "cells": [
  {
   "cell_type": "markdown",
   "id": "7e8e1f62",
   "metadata": {},
   "source": [
    "# Excercise 3"
   ]
  },
  {
   "cell_type": "markdown",
   "metadata": {},
   "source": [
    "# Handling Categorical Data in Python [Tutorial](https://www.datacamp.com/tutorial/categorical-data)"
   ]
  },
  {
   "cell_type": "markdown",
   "id": "19585a12",
   "metadata": {},
   "source": [
    "- read the flights dataset in a pandas DataFrame with read_csv()\n",
    "- check the contents with the .head() method."
   ]
  },
  {
   "cell_type": "code",
   "execution_count": 2,
   "id": "f84bded5",
   "metadata": {},
   "outputs": [
    {
     "name": "stdout",
     "output_type": "stream",
     "text": [
      "   year  month  day  dep_time  dep_delay  arr_time  arr_delay carrier tailnum  \\\n",
      "0  2014      1    1       1.0       96.0     235.0       70.0      AS  N508AS   \n",
      "1  2014      1    1       4.0       -6.0     738.0      -23.0      US  N195UW   \n",
      "2  2014      1    1       8.0       13.0     548.0       -4.0      UA  N37422   \n",
      "3  2014      1    1      28.0       -2.0     800.0      -23.0      US  N547UW   \n",
      "4  2014      1    1      34.0       44.0     325.0       43.0      AS  N762AS   \n",
      "\n",
      "   flight origin dest  air_time  distance  hour  minute  \n",
      "0     145    PDX  ANC     194.0      1542   0.0     1.0  \n",
      "1    1830    SEA  CLT     252.0      2279   0.0     4.0  \n",
      "2    1609    PDX  IAH     201.0      1825   0.0     8.0  \n",
      "3     466    PDX  CLT     251.0      2282   0.0    28.0  \n",
      "4     121    SEA  ANC     201.0      1448   0.0    34.0  \n"
     ]
    }
   ],
   "source": [
    "import pandas as pd\n",
    "\n",
    "df_flight = pd.read_csv('flights.csv')\n",
    "print(df_flight.head())"
   ]
  },
  {
   "cell_type": "markdown",
   "id": "eed31581",
   "metadata": {},
   "source": [
    "- .info() method can be used on DataFrame.\n",
    "- this gives us the information about the number of rows, columns, column data types, memory usage, etc"
   ]
  },
  {
   "cell_type": "code",
   "execution_count": 3,
   "id": "b23e89f2",
   "metadata": {},
   "outputs": [
    {
     "name": "stdout",
     "output_type": "stream",
     "text": [
      "<class 'pandas.core.frame.DataFrame'>\n",
      "RangeIndex: 162049 entries, 0 to 162048\n",
      "Data columns (total 16 columns):\n",
      " #   Column     Non-Null Count   Dtype  \n",
      "---  ------     --------------   -----  \n",
      " 0   year       162049 non-null  int64  \n",
      " 1   month      162049 non-null  int64  \n",
      " 2   day        162049 non-null  int64  \n",
      " 3   dep_time   161192 non-null  float64\n",
      " 4   dep_delay  161192 non-null  float64\n",
      " 5   arr_time   161061 non-null  float64\n",
      " 6   arr_delay  160748 non-null  float64\n",
      " 7   carrier    162049 non-null  object \n",
      " 8   tailnum    161801 non-null  object \n",
      " 9   flight     162049 non-null  int64  \n",
      " 10  origin     162049 non-null  object \n",
      " 11  dest       162049 non-null  object \n",
      " 12  air_time   160748 non-null  float64\n",
      " 13  distance   162049 non-null  int64  \n",
      " 14  hour       161192 non-null  float64\n",
      " 15  minute     161192 non-null  float64\n",
      "dtypes: float64(7), int64(5), object(4)\n",
      "memory usage: 19.8+ MB\n",
      "None\n"
     ]
    }
   ],
   "source": [
    "print(df_flight.info())"
   ]
  },
  {
   "cell_type": "markdown",
   "id": "fb293c78",
   "metadata": {},
   "source": [
    "- the columns with object dtype are the possible categorical features in your dataset.\n",
    "- most common way to analyze the relationship between a categorical feature and a continuous feature is to plot a boxplot. \n",
    "- the boxplot is a simple way of representing statistical data on a plot in which a rectangle is drawn to represent the second and third quartiles, usually with a vertical line inside to indicate the median value. \n",
    "- the lower and upper quartiles are shown as horizontal lines at either side of the rectangle.\n",
    "- .boxplot() method is used on the DataFrame to plot the boxplot"
   ]
  },
  {
   "cell_type": "code",
   "execution_count": 4,
   "id": "384fa0d3",
   "metadata": {},
   "outputs": [
    {
     "data": {
      "text/plain": [
       "<AxesSubplot: title={'center': 'dep_time'}, xlabel='origin'>"
      ]
     },
     "execution_count": 4,
     "metadata": {},
     "output_type": "execute_result"
    },
    {
     "data": {
      "image/png": "[encoded data removed]",
      "text/plain": [
       "<Figure size 500x600 with 1 Axes>"
      ]
     },
     "metadata": {},
     "output_type": "display_data"
    }
   ],
   "source": [
    "df_flight.boxplot('dep_time','origin',rot = 30,figsize=(5,6))"
   ]
  },
  {
   "cell_type": "markdown",
   "id": "51d823b4",
   "metadata": {},
   "source": [
    "- create DataFrame that only consists of object data types i.e. categorical features\n",
    "- .copy() method is used so that any changes made in new DataFrame don't get reflected in the original one."
   ]
  },
  {
   "cell_type": "code",
   "execution_count": 5,
   "id": "7eef4ab4",
   "metadata": {},
   "outputs": [
    {
     "name": "stdout",
     "output_type": "stream",
     "text": [
      "       carrier tailnum origin dest\n",
      "0           AS  N508AS    PDX  ANC\n",
      "1           US  N195UW    SEA  CLT\n",
      "2           UA  N37422    PDX  IAH\n",
      "3           US  N547UW    PDX  CLT\n",
      "4           AS  N762AS    SEA  ANC\n",
      "...        ...     ...    ...  ...\n",
      "162044      UA  N477UA    PDX  IAH\n",
      "162045      DL  N137DL    SEA  ATL\n",
      "162046      AS  N530AS    SEA  SAN\n",
      "162047      US     NaN    PDX  PHX\n",
      "162048      WN  N790SW    SEA  SMF\n",
      "\n",
      "[162049 rows x 4 columns]\n"
     ]
    }
   ],
   "source": [
    "import copy\n",
    "\n",
    "cat_df_flight = df_flight.select_dtypes(['object']).copy()\n",
    "print(cat_df_flight)\n"
   ]
  },
  {
   "cell_type": "markdown",
   "id": "fe25e09f",
   "metadata": {},
   "source": [
    "- the most common data pre-processing steps is to check for null values in the dataset.\n",
    "- check the column-wise distribution of null values using isnull() and sum() method on the Categorical DataFrame\n",
    "- the .isnull() method returns bool values\n",
    "- using .sum() method over isnull() method counts the number of True value"
   ]
  },
  {
   "cell_type": "code",
   "execution_count": 6,
   "id": "eff68050",
   "metadata": {},
   "outputs": [
    {
     "name": "stdout",
     "output_type": "stream",
     "text": [
      "        carrier  tailnum  origin   dest\n",
      "0         False    False   False  False\n",
      "1         False    False   False  False\n",
      "2         False    False   False  False\n",
      "3         False    False   False  False\n",
      "4         False    False   False  False\n",
      "...         ...      ...     ...    ...\n",
      "162044    False    False   False  False\n",
      "162045    False    False   False  False\n",
      "162046    False    False   False  False\n",
      "162047    False     True   False  False\n",
      "162048    False    False   False  False\n",
      "\n",
      "[162049 rows x 4 columns]\n",
      "carrier      0\n",
      "tailnum    248\n",
      "origin       0\n",
      "dest         0\n",
      "dtype: int64\n"
     ]
    }
   ],
   "source": [
    "print(cat_df_flight.isnull())\n",
    "print(cat_df_flight.isnull().sum())\n"
   ]
  },
  {
   "cell_type": "markdown",
   "id": "9bea5a08",
   "metadata": {},
   "source": [
    "- It seems that only the tailnum column has null values. \n",
    "- We can perform mode imputation for those null values. \n",
    "- The function .fillna() method is handy for such operations.\n",
    "- .value_counts() in the code below returns the frequency distribution of each category in the feature\n",
    "- then selecting the top category, which is the mode, with the .index attribute."
   ]
  },
  {
   "cell_type": "code",
   "execution_count": 10,
   "id": "46b04eae",
   "metadata": {},
   "outputs": [
    {
     "name": "stdout",
     "output_type": "stream",
     "text": [
      "       carrier tailnum origin dest\n",
      "0           AS  N508AS    PDX  ANC\n",
      "1           US  N195UW    SEA  CLT\n",
      "2           UA  N37422    PDX  IAH\n",
      "3           US  N547UW    PDX  CLT\n",
      "4           AS  N762AS    SEA  ANC\n",
      "...        ...     ...    ...  ...\n",
      "162044      UA  N477UA    PDX  IAH\n",
      "162045      DL  N137DL    SEA  ATL\n",
      "162046      AS  N530AS    SEA  SAN\n",
      "162047      US  N223AG    PDX  PHX\n",
      "162048      WN  N790SW    SEA  SMF\n",
      "\n",
      "[162049 rows x 4 columns]\n"
     ]
    }
   ],
   "source": [
    "print(cat_df_flight.fillna(cat_df_flight['tailnum'].value_counts().index[0]))"
   ]
  },
  {
   "cell_type": "markdown",
   "metadata": {},
   "source": []
  }
 ],
 "metadata": {
  "kernelspec": {
   "display_name": "Python 3.10.6 ('env': venv)",
   "language": "python",
   "name": "python3"
  },
  "language_info": {
   "codemirror_mode": {
    "name": "ipython",
    "version": 3
   },
   "file_extension": ".py",
   "mimetype": "text/x-python",
   "name": "python",
   "nbconvert_exporter": "python",
   "pygments_lexer": "ipython3",
   "version": "3.10.6"
  },
  "orig_nbformat": 4,
  "vscode": {
   "interpreter": {
    "hash": "dba66bff4e0328c868c378702306ab8e76973bb22ad6a025cdf89d3cd16db388"
   }
  }
 },
 "nbformat": 4,
 "nbformat_minor": 2
}
